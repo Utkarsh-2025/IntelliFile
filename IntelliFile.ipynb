{
 "cells": [
  {
   "cell_type": "code",
   "execution_count": 1,
   "metadata": {},
   "outputs": [],
   "source": [
    "import os\n",
    "import json\n",
    "from io import StringIO\n",
    "from dotenv import load_dotenv\n",
    "from pdfminer.high_level import extract_text\n",
    "from pdfminer.converter import TextConverter\n",
    "from pdfminer.layout import LAParams\n",
    "from pdfminer.pdfdocument import PDFDocument\n",
    "from pdfminer.pdfpage import PDFPage\n",
    "from pdfminer.pdfparser import PDFParser\n",
    "from pdfminer.pdfinterp import PDFResourceManager, PDFPageInterpreter\n",
    "import csv\n",
    "import pandas as pd\n",
    "import docx\n",
    "import pptx\n",
    "\n",
    "from groq import Groq"
   ]
  },
  {
   "cell_type": "code",
   "execution_count": 2,
   "metadata": {},
   "outputs": [],
   "source": [
    "def load_environment_variables():\n",
    "    load_dotenv()\n",
    "    categories = os.getenv('CATEGORIES')\n",
    "    categories = categories.split(',')\n",
    "    GROQ_KEY = os.getenv(\"GROQ_API_KEY\")\n",
    "    return categories, GROQ_KEY"
   ]
  },
  {
   "cell_type": "code",
   "execution_count": 3,
   "metadata": {},
   "outputs": [],
   "source": [
    "def get_prompts(categories):\n",
    "    SUMMARY_PROMPT = \"\"\"\n",
    "    Please read the content of the provided file and provide a concise but informative summary. \n",
    "    The purpose of the summary is to rename files based on their content. \n",
    "    Ensure the summary is as specific to the file as possible and write your response as a JSON object with the following schema:\n",
    "\n",
    "    RESPOND WITH JUST THE JSON OBJECT AND NOTHING ELSE (NO ADDITIONAL TEXT OR EXPLANATION).\n",
    "    MAKE SURE TO FOLLOW THE SCHEMA AND DON'T MAKE ANY MISTAKES.\n",
    "\n",
    "    {\n",
    "        \"summary\": \"summary of the content\"\n",
    "    }\n",
    "    \"\"\"\n",
    "\n",
    "    RENAME_PROMPT = \"\"\"\n",
    "    Please read the content of the provided file and provide a concise but informative new name for the file without the extension.\n",
    "    Also provide the category that best fits the file based on the summary from the following category list: {}.\n",
    "\n",
    "    ONLY CHOOSE A CATEGORY FROM THE LIST PROVIDED. DO NOT MAKE UP CATEGORIES.\n",
    "    The purpose of the new name is to rename files based on their content.\n",
    "    Ensure the new name is as specific to the file as possible and write your response as a JSON object with the following schema:\n",
    "\n",
    "    RESPOND WITH JUST THE JSON OBJECT AND NOTHING ELSE (NO ADDITIONAL TEXT OR EXPLANATION).\n",
    "    MAKE SURE TO FOLLOW THE SCHEMA AND DON'T MAKE ANY MISTAKES.\n",
    "\n",
    "    {{\n",
    "        \"new_name\": \"new name for the file\",\n",
    "        \"category\": \"category of the file\"\n",
    "    }}\n",
    "    \"\"\".format(categories)\n",
    "    \n",
    "    return SUMMARY_PROMPT, RENAME_PROMPT"
   ]
  },
  {
   "cell_type": "code",
   "execution_count": 4,
   "metadata": {},
   "outputs": [],
   "source": [
    "def read_file_contents(file_path):\n",
    "    file_type = file_path.split('.')[-1].lower()\n",
    "    \n",
    "    if file_type == 'csv':\n",
    "        return read_csv(file_path)\n",
    "    elif file_type in ['xls', 'xlsx']:\n",
    "        return read_excel(file_path)\n",
    "    elif file_type in ['py', 'java', 'cpp', 'c', 'js', 'ts', 'go', 'rb', 'swift', 'kt', 'scala', 'php', 'perl', 'ruby', 'bash', 'sh', 'zsh', 'html']:\n",
    "        return read_code_file(file_path)\n",
    "    elif file_type == 'docx':\n",
    "        return read_docx(file_path)\n",
    "    elif file_type == 'pptx':\n",
    "        return read_pptx(file_path)\n",
    "    elif file_type == 'pdf':\n",
    "        return read_pdf(file_path)\n",
    "    elif file_type == 'json':\n",
    "        return read_json(file_path)\n",
    "    elif file_type == 'txt':\n",
    "        return read_txt(file_path)\n",
    "    else:\n",
    "        return \"Unsupported file type\""
   ]
  },
  {
   "cell_type": "code",
   "execution_count": 5,
   "metadata": {},
   "outputs": [],
   "source": [
    "def read_csv(file_path):\n",
    "    with open(file_path, 'r') as file:\n",
    "        reader = csv.reader(file)\n",
    "        contents = ['\\t'.join(row) for row in reader]\n",
    "    return contents"
   ]
  },
  {
   "cell_type": "code",
   "execution_count": 6,
   "metadata": {},
   "outputs": [],
   "source": [
    "def read_excel(file_path):\n",
    "    df = pd.read_excel(file_path)\n",
    "    return df.values.tolist()"
   ]
  },
  {
   "cell_type": "code",
   "execution_count": 7,
   "metadata": {},
   "outputs": [],
   "source": [
    "def read_code_file(file_path):\n",
    "    with open(file_path, 'r') as file:\n",
    "        content = file.read()\n",
    "        return content"
   ]
  },
  {
   "cell_type": "code",
   "execution_count": 8,
   "metadata": {},
   "outputs": [],
   "source": [
    "def read_docx(file_path):\n",
    "    doc = docx.Document(file_path)\n",
    "    contents = [para.text for para in doc.paragraphs]\n",
    "    return contents"
   ]
  },
  {
   "cell_type": "code",
   "execution_count": 9,
   "metadata": {},
   "outputs": [],
   "source": [
    "def read_pptx(file_path):\n",
    "    presentation = pptx.Presentation(file_path)\n",
    "    contents = [shape.text for slide in presentation.slides for shape in slide.shapes if hasattr(shape, \"text\")]\n",
    "    return contents"
   ]
  },
  {
   "cell_type": "code",
   "execution_count": 10,
   "metadata": {},
   "outputs": [],
   "source": [
    "def read_pdf(file_path):\n",
    "    output_string = StringIO()\n",
    "    with open(file_path, 'rb') as in_file:\n",
    "        parser = PDFParser(in_file)\n",
    "        doc = PDFDocument(parser)\n",
    "        rsrcmgr = PDFResourceManager()\n",
    "        device = TextConverter(rsrcmgr, output_string, laparams=LAParams())\n",
    "        interpreter = PDFPageInterpreter(rsrcmgr, device)\n",
    "        for page in PDFPage.create_pages(doc):\n",
    "            interpreter.process_page(page)\n",
    "    contents = output_string.getvalue().splitlines()\n",
    "    return contents"
   ]
  },
  {
   "cell_type": "code",
   "execution_count": 11,
   "metadata": {},
   "outputs": [],
   "source": [
    "def read_json(file_path):\n",
    "    with open(file_path, 'r') as file:\n",
    "        content = json.load(file)\n",
    "        return content"
   ]
  },
  {
   "cell_type": "code",
   "execution_count": 12,
   "metadata": {},
   "outputs": [],
   "source": [
    "def read_txt(file_path):\n",
    "    with open(file_path, 'r') as file:\n",
    "        content = file.read()\n",
    "        return content"
   ]
  },
  {
   "cell_type": "code",
   "execution_count": 13,
   "metadata": {},
   "outputs": [],
   "source": [
    "def summarize_and_rename_file(contents, groq_key, summary_prompt, rename_prompt):\n",
    "    try:\n",
    "        client = Groq(api_key=groq_key)\n",
    "        summary = get_summary(client, summary_prompt, contents)\n",
    "        name = get_new_name(client, rename_prompt, summary[\"summary\"])\n",
    "        return summary, name\n",
    "    except Exception as e:\n",
    "        print(f\"Error summarizing and renaming file: {e}\")\n",
    "        return None, None"
   ]
  },
  {
   "cell_type": "code",
   "execution_count": 14,
   "metadata": {},
   "outputs": [],
   "source": [
    "def get_summary(client, summary_prompt, contents):\n",
    "    chat_completion1 = client.chat.completions.create(\n",
    "        messages=[\n",
    "            {\n",
    "                \"role\": \"system\",\n",
    "                \"content\": summary_prompt\n",
    "            },\n",
    "            {\n",
    "                \"role\": \"user\",\n",
    "                \"content\": contents,\n",
    "            }\n",
    "        ],\n",
    "        model=\"llama3-8b-8192\"\n",
    "    )\n",
    "    summary = chat_completion1.choices[0].message.content\n",
    "    if summary.find('}') == -1:\n",
    "        summary += '}'\n",
    "    summary = summary[(summary.index('{')):(summary.index('}') + 1)]\n",
    "    return json.loads(summary)"
   ]
  },
  {
   "cell_type": "code",
   "execution_count": 15,
   "metadata": {},
   "outputs": [],
   "source": [
    "def get_new_name(client, rename_prompt, summary):\n",
    "    chat_completion2 = client.chat.completions.create(\n",
    "        messages=[\n",
    "            {\n",
    "                \"role\": \"system\",\n",
    "                \"content\": rename_prompt\n",
    "            },\n",
    "            {\n",
    "                \"role\": \"user\",\n",
    "                \"content\": summary,\n",
    "            }\n",
    "        ],\n",
    "        model=\"llama3-8b-8192\"\n",
    "    )\n",
    "    name = chat_completion2.choices[0].message.content\n",
    "    if name.find('}') == -1:\n",
    "        name += '}'\n",
    "    name = name[(name.index('{')):(name.index('}') + 1)]\n",
    "    return json.loads(name)"
   ]
  },
  {
   "cell_type": "code",
   "execution_count": 16,
   "metadata": {},
   "outputs": [],
   "source": [
    "def rename_file(file_path, new_name, category):\n",
    "    file_extension = os.path.splitext(file_path)[1]\n",
    "    new_file_path = os.path.join(os.path.dirname(file_path), f\"{category}_{new_name}{file_extension}\")\n",
    "    os.rename(file_path, new_file_path)"
   ]
  },
  {
   "cell_type": "code",
   "execution_count": 17,
   "metadata": {},
   "outputs": [],
   "source": [
    "def read_and_process_all_files_in_directory(directory_path, groq_key, summary_prompt, rename_prompt):\n",
    "    for filename in os.listdir(directory_path):\n",
    "        if os.path.isfile(os.path.join(directory_path, filename)) and not os.path.basename(filename).startswith('.'):\n",
    "            file_path = os.path.join(directory_path, filename)\n",
    "            contents = read_file_contents(file_path)\n",
    "            if contents != \"Unsupported file type\":\n",
    "                if len(str(contents)) > 15000:\n",
    "                    contents = str(contents)[:15000]\n",
    "                summary, name = summarize_and_rename_file(str(contents), groq_key, summary_prompt, rename_prompt)\n",
    "                if summary and name:\n",
    "                    rename_file(file_path, name['new_name'], name['category'])\n",
    "                    print(\"------------------------\")\n",
    "                    print(f\"File: {filename}\")\n",
    "                    print(f\"Summary: {summary['summary']}\")\n",
    "                    print(f\"New Name: {name['new_name']}\")\n",
    "                    print(f\"Category: {name['category']}\")\n",
    "                else:\n",
    "                    print(f\"Error processing file: {filename}\")\n",
    "            else:\n",
    "                print(f\"Unsupported file type: {filename}\")"
   ]
  },
  {
   "cell_type": "code",
   "execution_count": 18,
   "metadata": {},
   "outputs": [],
   "source": [
    "if __name__ == \"__main__\":\n",
    "    categories, GROQ_KEY = load_environment_variables()\n",
    "    SUMMARY_PROMPT, RENAME_PROMPT = get_prompts(categories)\n",
    "    DIRECTORY_PATH = \"data\"\n",
    "    read_and_process_all_files_in_directory(DIRECTORY_PATH, GROQ_KEY, SUMMARY_PROMPT, RENAME_PROMPT)"
   ]
  }
 ],
 "metadata": {
  "kernelspec": {
   "display_name": "groq",
   "language": "python",
   "name": "python3"
  },
  "language_info": {
   "codemirror_mode": {
    "name": "ipython",
    "version": 3
   },
   "file_extension": ".py",
   "mimetype": "text/x-python",
   "name": "python",
   "nbconvert_exporter": "python",
   "pygments_lexer": "ipython3",
   "version": "3.12.4"
  }
 },
 "nbformat": 4,
 "nbformat_minor": 2
}
